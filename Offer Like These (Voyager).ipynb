{
 "cells": [
  {
   "cell_type": "code",
   "execution_count": 6,
   "id": "e8745ddb-1b79-44ae-9956-15279e50dfab",
   "metadata": {},
   "outputs": [
    {
     "name": "stdout",
     "output_type": "stream",
     "text": [
      "Cloning into 'voyager'...\n",
      "remote: Enumerating objects: 2822, done.\u001b[K\n",
      "remote: Counting objects: 100% (915/915), done.\u001b[K\n",
      "remote: Compressing objects: 100% (443/443), done.\u001b[K\n",
      "remote: Total 2822 (delta 741), reused 483 (delta 466), pack-reused 1907 (from 2)\u001b[K\n",
      "Receiving objects: 100% (2822/2822), 12.38 MiB | 15.20 MiB/s, done.\n",
      "Resolving deltas: 100% (1733/1733), done.\n",
      "Processing ./voyager/python\n",
      "  Installing build dependencies ... \u001b[?25ldone\n",
      "\u001b[?25h  Getting requirements to build wheel ... \u001b[?25ldone\n",
      "\u001b[?25h  Installing backend dependencies ... \u001b[?25ldone\n",
      "\u001b[?25h  Preparing metadata (pyproject.toml) ... \u001b[?25ldone\n",
      "\u001b[?25hBuilding wheels for collected packages: voyager\n",
      "  Building wheel for voyager (pyproject.toml) ... \u001b[?25ldone\n",
      "\u001b[?25h  Created wheel for voyager: filename=voyager-2.0.10-cp312-abi3-macosx_15_0_arm64.whl size=177453 sha256=4470ee7579d3fb58229f46ddeb878a320886dd8d379ba2c2be01d36f152fd179\n",
      "  Stored in directory: /private/var/folders/cz/gqv_mnm50j7dg9tz6m012cfr0000gn/T/pip-ephem-wheel-cache-afqc36i7/wheels/a8/52/96/35400732d3b2897145df7a53798f3d0c9ac13ad8f78aff5415\n",
      "Successfully built voyager\n",
      "Installing collected packages: voyager\n",
      "Successfully installed voyager-2.0.10\n"
     ]
    }
   ],
   "source": [
    "!git clone https://github.com/spotify/voyager.git\n",
    "!pip install ./voyager/python"
   ]
  },
  {
   "cell_type": "code",
   "execution_count": null,
   "id": "603662de-749f-4d7a-8083-ed122aaac984",
   "metadata": {},
   "outputs": [],
   "source": [
    "import os\n",
    "os._exit(00)"
   ]
  },
  {
   "cell_type": "code",
   "execution_count": 4,
   "id": "b025ed13-32d1-4c64-a665-2d116aac331b",
   "metadata": {},
   "outputs": [
    {
     "name": "stdout",
     "output_type": "stream",
     "text": [
      "['Cosine', 'E4M3', 'E4M3Index', 'E4M3T', 'Euclidean', 'Float32', 'Float8', 'Float8Index', 'FloatIndex', 'Index', 'InnerProduct', 'LabelSetView', 'RecallError', 'Space', 'StorageDataType', '__builtins__', '__cached__', '__doc__', '__file__', '__loader__', '__name__', '__package__', '__path__', '__spec__', 'version', 'voyager_ext']\n"
     ]
    }
   ],
   "source": [
    "import voyager\n",
    "print(dir(voyager))  # List available attributes and methods"
   ]
  },
  {
   "cell_type": "code",
   "execution_count": 10,
   "id": "c64f8f18-d8e3-4e2b-bb78-b40f32cc3927",
   "metadata": {},
   "outputs": [
    {
     "name": "stdout",
     "output_type": "stream",
     "text": [
      "(2, 1, 0)\n"
     ]
    }
   ],
   "source": [
    "import voyager\n",
    "print(voyager.version)"
   ]
  },
  {
   "cell_type": "code",
   "execution_count": 26,
   "id": "e55eb64c-0087-40de-a04f-8bbbd96197ef",
   "metadata": {},
   "outputs": [
    {
     "name": "stdout",
     "output_type": "stream",
     "text": [
      "                     OFFER_ID                  PAYER_ID              PARTNER  \\\n",
      "0  01HY294G28HQW1JZCYGZHH0BR0  5f32f5162455c921c66f024a              barilla   \n",
      "1  01HZFBEN6CC58B2H7DDP0033Z0  5fc90c54ac99f076f08267c2  albertsonscompanies   \n",
      "2  01J7XK05582P5RYAWWFSF1M677  650345ffc1be0b7a40b67f21       georgiapacific   \n",
      "3  01HW8AVXQ7Y6W10QBS6GB4PJFP  5e7cf838f221c312e698a628             sargento   \n",
      "4  01JD5CYS9J7ETHAPRQ9H8P4054  5332f5f6e4b03c9a25efd0b4             unilever   \n",
      "\n",
      "                         CAMPAIGN  POINTS                   TACTIC      SPEND  \\\n",
      "0              #BAR_Legume_Q22024  1000.0     NEW_CATEGORY_ENTRANT  15460.500   \n",
      "1              #ACI Q2 '24 Offers  1500.0  BUY_RATE_DOLLAR_OR_UNIT   2844.000   \n",
      "2                   #BrawnyQ32024  1250.0  BUY_RATE_DOLLAR_OR_UNIT   3540.375   \n",
      "3  #2024_Sargento_Summer_Grilling   500.0  BUY_RATE_DOLLAR_OR_UNIT  25819.500   \n",
      "4       DM+C Purchase Based Q4'24  1500.0     NEW_CATEGORY_ENTRANT  49908.430   \n",
      "\n",
      "   TARGET_BUDGET    AUDIENCE  REDEEMERS  ...  PROMO_USERS_T PROMO_UNITS_T  \\\n",
      "0          15485  14610225.0     8869.0  ...        22337.0      36405.55   \n",
      "1           6657      6397.0      905.0  ...         3859.0           NaN   \n",
      "2           3537     80898.0     1595.0  ...         8806.0      13625.25   \n",
      "3          25100    966904.0    28739.0  ...        79790.0     129923.83   \n",
      "4          40000  11097985.0    21527.0  ...        43597.0      57748.92   \n",
      "\n",
      "  REDEMPTIONS   INCR_DOLLARS   INCR_UNITS   INCR_USERS  \\\n",
      "0     10306.0    9206.895136  4271.870439   507.028877   \n",
      "1      1264.0  130584.421047          NaN   117.682192   \n",
      "2      2098.0    1515.143072   319.103751   111.584178   \n",
      "3     34419.0   24944.779275  9781.972423  1585.304799   \n",
      "4     29316.0    1839.468971  1045.760280    47.908844   \n",
      "\n",
      "                                            BARCODES          CATEGORIES  \\\n",
      "0  076808008470, 076808011272, 076808008487, 0768...              Pantry   \n",
      "1                                                NaN                 NaN   \n",
      "2  042000447782, 042000441353, 042000439084, 0420...  Household Supplies   \n",
      "3  046100001219, 046100001868, 046100002865, 0461...               Dairy   \n",
      "4  079400185068, 011111368927, 2700715806222, 079...   Health & Wellness   \n",
      "\n",
      "   POINTS_EARNED  RETAILER_CHANNELS  \n",
      "0         1000.0            GROCERY  \n",
      "1         1500.0                NaN  \n",
      "2         1250.0                NaN  \n",
      "3          500.0                NaN  \n",
      "4         1500.0                NaN  \n",
      "\n",
      "[5 rows x 27 columns]\n",
      "(78762, 27)\n"
     ]
    }
   ],
   "source": [
    "import pandas as pd\n",
    "\n",
    "# Specify the path to your CSV file\n",
    "file_path = \"data_0129.csv\"\n",
    "\n",
    "# Load the CSV file into a pandas DataFrame\n",
    "df = pd.read_csv(file_path)\n",
    "\n",
    "# Display the first few rows of the DataFrame\n",
    "print(df.head())\n",
    "print(df.shape)"
   ]
  },
  {
   "cell_type": "code",
   "execution_count": 28,
   "id": "90b8da4c-01f8-4b84-ba7f-68fcef515689",
   "metadata": {},
   "outputs": [
    {
     "name": "stdout",
     "output_type": "stream",
     "text": [
      "Index(['OFFER_ID', 'PAYER_ID', 'PARTNER', 'CAMPAIGN', 'POINTS', 'TACTIC',\n",
      "       'SPEND', 'TARGET_BUDGET', 'AUDIENCE', 'REDEEMERS', 'REDEMPTION_RATE',\n",
      "       'START_DATE', 'LATEST_END_DATE', 'DURATION', 'IROAS', 'ROAS',\n",
      "       'PROMO_DOLLARS_T', 'PROMO_USERS_T', 'PROMO_UNITS_T', 'REDEMPTIONS',\n",
      "       'INCR_DOLLARS', 'INCR_UNITS', 'INCR_USERS', 'BARCODES', 'CATEGORIES',\n",
      "       'POINTS_EARNED', 'RETAILER_CHANNELS'],\n",
      "      dtype='object')\n"
     ]
    }
   ],
   "source": [
    "print(df.columns)"
   ]
  },
  {
   "cell_type": "code",
   "execution_count": 45,
   "id": "12bafc8e-a80e-4b35-b3a8-908fa8a3f4b3",
   "metadata": {},
   "outputs": [
    {
     "name": "stdout",
     "output_type": "stream",
     "text": [
      "                         OFFER_ID                  PAYER_ID           PARTNER  \\\n",
      "6942   01J91FXG59V5284QJYGEPN9HYC  5eebc5412455c97a877ef382  thecloroxcompany   \n",
      "26675  01J99PTS1WTSB85HV6CFQN8NV3  63937bc130239a07c0e8aaaf            amazon   \n",
      "56383  01HQRFY2FQ8XJN36BEWSQ0KMZS  5332f5f3e4b03c9a25efd0ae      generalmills   \n",
      "1638   01HHMN65N9TJFKWE2C5DRR9P0E  62f51f6f02d87153442246a2       marswrigley   \n",
      "5554   01J2CFN7Q32SRBKCCGWJWKPY01  62618c0303646d1af035dc93            zaxbys   \n",
      "\n",
      "                               CAMPAIGN  POINTS                   TACTIC  \\\n",
      "6942      #GladTrash_Portfolio_OctNov24  1750.0  BUY_RATE_DOLLAR_OR_UNIT   \n",
      "26675  #Amazon Fresh Q4 '24 Campaign_V2  2500.0           TRIP_FREQUENCY   \n",
      "56383  #Blue Buffalo Wet Dog March FY24  1000.0     NEW_CATEGORY_ENTRANT   \n",
      "1638             #M&M'S PB Portfolio Q1   600.0  BUY_RATE_DOLLAR_OR_UNIT   \n",
      "5554                    #Zaxbys_2H 2024  1250.0  BUY_RATE_DOLLAR_OR_UNIT   \n",
      "\n",
      "           SPEND  TARGET_BUDGET   AUDIENCE  REDEEMERS  ...  PROMO_USERS_T  \\\n",
      "6942   19637.625          20000  1081670.0     7481.0  ...        60715.0   \n",
      "26675  82203.750          79500    21657.0    10052.0  ...        12466.0   \n",
      "56383   7330.400           6560  9738658.0     5235.0  ...         8982.0   \n",
      "1638   20907.000          40500  2320918.0    18614.0  ...        60098.0   \n",
      "5554    2294.625           2295   160081.0     1260.0  ...         2702.0   \n",
      "\n",
      "      PROMO_UNITS_T REDEMPTIONS   INCR_DOLLARS    INCR_UNITS   INCR_USERS  \\\n",
      "6942       79605.92      7481.0   37167.734159   3176.307677  2374.779784   \n",
      "26675           NaN     21921.0  504421.516750           NaN   183.000000   \n",
      "56383      22989.31      5235.0     459.507320   1173.385281   466.687571   \n",
      "1638       88807.62     27845.0   57157.085052  14080.665278  5246.564830   \n",
      "5554            NaN      1422.0    9717.556789           NaN   324.559406   \n",
      "\n",
      "                                                BARCODES  \\\n",
      "6942   012587704264, 012587793121, 012587223093, 0125...   \n",
      "26675                                                NaN   \n",
      "56383  840243104949, 840243129300, 840243105731, 8402...   \n",
      "1638   040000002239, 311111672032, 040000437857, 3111...   \n",
      "5554                                                 NaN   \n",
      "\n",
      "                   CATEGORIES  POINTS_EARNED  RETAILER_CHANNELS  \n",
      "6942       Household Supplies         1750.0         RESTAURANT  \n",
      "26675                     NaN         2500.0            UNKNOWN  \n",
      "56383  Animals & Pet Supplies         1000.0        CONVENIENCE  \n",
      "1638           Pantry, Snacks          600.0               DRUG  \n",
      "5554                      NaN         1250.0                NaN  \n",
      "\n",
      "[5 rows x 27 columns]\n",
      "(100, 27)\n"
     ]
    }
   ],
   "source": [
    "df_sample = df.sample(n=100, random_state=42)  # Set random_state for reproducibility\n",
    "\n",
    "# Display the first few rows of the sampled dataset\n",
    "print(df_sample.head())\n",
    "print(df_sample.shape) "
   ]
  },
  {
   "cell_type": "code",
   "execution_count": 61,
   "id": "58366ac7-1a5d-4d85-b954-0915ef2633bb",
   "metadata": {},
   "outputs": [
    {
     "name": "stdout",
     "output_type": "stream",
     "text": [
      "Predicted Redemption Rate: 2.5370283060684\n",
      "Predicted Redemptions: 24983.4\n"
     ]
    }
   ],
   "source": [
    "import voyager\n",
    "import pandas as pd\n",
    "import numpy as np\n",
    "from sklearn.preprocessing import StandardScaler, OneHotEncoder\n",
    "from sklearn.pipeline import Pipeline\n",
    "\n",
    "# Selecting numerical and categorical features\n",
    "num_features = [\"POINTS\", \"SPEND\", \"TARGET_BUDGET\", \"AUDIENCE\", \"IROAS\", \"ROAS\", \"DURATION\"]\n",
    "cat_features = [\"PAYER_ID\", \"PARTNER\", \"TACTIC\", \"CATEGORIES\", \"RETAILER_CHANNELS\"]\n",
    "\n",
    "# Preprocessing pipeline\n",
    "num_pipeline = Pipeline([(\"scaler\", StandardScaler())])\n",
    "cat_pipeline = Pipeline([(\"encoder\", OneHotEncoder(handle_unknown=\"ignore\"))])\n",
    "\n",
    "# Transform features\n",
    "num_data = num_pipeline.fit_transform(df_sample[num_features])\n",
    "cat_data = cat_pipeline.fit_transform(df_sample[cat_features]).toarray()\n",
    "\n",
    "# Combine into final vector representation\n",
    "offer_vectors = np.hstack([num_data, cat_data]).astype(np.float32)\n",
    "\n",
    "index = voyager.Index(space=voyager.Space.Euclidean, num_dimensions=offer_vectors.shape[1])\n",
    "\n",
    "for i, vector in enumerate(offer_vectors):\n",
    "    index.add_item(vector, i)  # Vector comes first, then the ID\n",
    "\n",
    "# Function to find similar offers\n",
    "def find_similar_offers(query_vector, top_k=10):\n",
    "    indices, distances = index.query(query_vector.reshape(1, -1), k=top_k)\n",
    "    return df_sample.iloc[indices[0]]  # Return top similar offers\n",
    "\n",
    "# Example: Predict Redemptions for a new offer\n",
    "new_offer_vector = offer_vectors[0]  # Use the first offer as a query\n",
    "similar_offers = find_similar_offers(new_offer_vector)\n",
    "\n",
    "# Predict Redemption Rate and Redemptions\n",
    "predicted_redemption_rate = similar_offers[\"REDEMPTION_RATE\"].mean()\n",
    "predicted_redemptions = similar_offers[\"REDEMPTIONS\"].mean()\n",
    "\n",
    "print(f\"Predicted Redemption Rate: {predicted_redemption_rate}\")\n",
    "print(f\"Predicted Redemptions: {predicted_redemptions}\")"
   ]
  },
  {
   "cell_type": "code",
   "execution_count": 65,
   "id": "80ea0a43-097e-4485-a9f6-3aa804fa85e3",
   "metadata": {},
   "outputs": [
    {
     "name": "stdout",
     "output_type": "stream",
     "text": [
      "Similar Offer IDs: ['01J8GAQQ8VRR21F50BNH25KWC9', '01J0KXCYMBYRSPX8RK7W1GRKYX', '01J3GPTKD0PFMCYY7Z7JWX0QY0', '01J1WS3RRE28H3H22WGPNFCQ5M', '01JATSBSSSDS49JA2ACWP5JKMT']\n"
     ]
    }
   ],
   "source": [
    "# Function to find similar offers and return OFFER_IDs\n",
    "def find_similar_offers(query_vector, top_k=5):\n",
    "    indices, distances = index.query(query_vector.reshape(1, -1), k=top_k)\n",
    "    similar_offers = df_sample.iloc[indices[0]]  # Get similar offers\n",
    "\n",
    "    # Extract OFFER_IDs from similar offers\n",
    "    similar_offer_ids = similar_offers[\"OFFER_ID\"].tolist()\n",
    "    return similar_offer_ids  # Return only OFFER_IDs\n",
    "\n",
    "# Example: Find similar offers for a new offer\n",
    "new_offer_vector = offer_vectors[0]  # Use the first offer as a query\n",
    "similar_offer_ids = find_similar_offers(new_offer_vector)\n",
    "\n",
    "# Display the OFFER_IDs of the similar offers\n",
    "print(\"Similar Offer IDs:\", similar_offer_ids)"
   ]
  },
  {
   "cell_type": "code",
   "execution_count": 57,
   "id": "bfb7e2a4-4337-49d7-8571-a856c59aba68",
   "metadata": {},
   "outputs": [
    {
     "data": {
      "text/plain": [
       "OFFER_ID                                    01J91FXG59V5284QJYGEPN9HYC\n",
       "PAYER_ID                                      5eebc5412455c97a877ef382\n",
       "PARTNER                                               thecloroxcompany\n",
       "CAMPAIGN                                 #GladTrash_Portfolio_OctNov24\n",
       "POINTS                                                          1750.0\n",
       "TACTIC                                         BUY_RATE_DOLLAR_OR_UNIT\n",
       "SPEND                                                        19637.625\n",
       "TARGET_BUDGET                                                    20000\n",
       "AUDIENCE                                                     1081670.0\n",
       "REDEEMERS                                                       7481.0\n",
       "REDEMPTION_RATE                                               0.691616\n",
       "START_DATE                                   2024-10-24 05:00:00.000 Z\n",
       "LATEST_END_DATE                              2024-12-29 05:59:59.999 Z\n",
       "DURATION                                                            65\n",
       "IROAS                                                          1.89268\n",
       "ROAS                                                         35.101029\n",
       "PROMO_DOLLARS_T                                              689300.85\n",
       "PROMO_USERS_T                                                  60715.0\n",
       "PROMO_UNITS_T                                                 79605.92\n",
       "REDEMPTIONS                                                     7481.0\n",
       "INCR_DOLLARS                                              37167.734159\n",
       "INCR_UNITS                                                 3176.307677\n",
       "INCR_USERS                                                 2374.779784\n",
       "BARCODES             012587704264, 012587793121, 012587223093, 0125...\n",
       "CATEGORIES                                          Household Supplies\n",
       "POINTS_EARNED                                                   1750.0\n",
       "RETAILER_CHANNELS                                           RESTAURANT\n",
       "Name: 6942, dtype: object"
      ]
     },
     "execution_count": 57,
     "metadata": {},
     "output_type": "execute_result"
    }
   ],
   "source": [
    "df_sample.iloc[0]"
   ]
  },
  {
   "cell_type": "code",
   "execution_count": 75,
   "id": "f691e5fd-1293-4521-90cf-9b5f193b55ae",
   "metadata": {},
   "outputs": [
    {
     "name": "stdout",
     "output_type": "stream",
     "text": [
      "                         OFFER_ID  REDEMPTIONS  REDEMPTION_RATE  \\\n",
      "44849  01J8GAQQ8VRR21F50BNH25KWC9        336.0         1.744731   \n",
      "47526  01J0KXCYMBYRSPX8RK7W1GRKYX         17.0         2.328767   \n",
      "66048  01J3GPTKD0PFMCYY7Z7JWX0QY0      74050.0         0.292349   \n",
      "13824  01J1WS3RRE28H3H22WGPNFCQ5M      96174.0         6.162874   \n",
      "10463  01JATSBSSSDS49JA2ACWP5JKMT        212.0         0.269732   \n",
      "\n",
      "                        TACTIC       SPEND  DURATION  \\\n",
      "44849  BUY_RATE_DOLLAR_OR_UNIT    2016.000        90   \n",
      "47526  BUY_RATE_DOLLAR_OR_UNIT      28.560       213   \n",
      "66048    COMPETITIVE_TARGETING  267867.488        91   \n",
      "13824  BUY_RATE_DOLLAR_OR_UNIT  225047.160        50   \n",
      "10463  BUY_RATE_DOLLAR_OR_UNIT     286.200        38   \n",
      "\n",
      "                                   CATEGORIES  \\\n",
      "44849                       Health & Wellness   \n",
      "47526                                  Snacks   \n",
      "66048                                  Snacks   \n",
      "13824  Dairy, Snacks, Frozen, Pantry, Alcohol   \n",
      "10463                      Household Supplies   \n",
      "\n",
      "                                       RETAILER_CHANNELS  \n",
      "44849                                      UNKNOWN, DRUG  \n",
      "47526                                               MASS  \n",
      "66048  ELECTRONICS, DRUG, SPECIALTY, HOME_IMPROVEMENT...  \n",
      "13824                                             DOLLAR  \n",
      "10463                                                NaN  \n"
     ]
    }
   ],
   "source": [
    "# Filter the dataset to get the Redemption Rate and Redemptions for the similar OFFER_IDs\n",
    "similar_offers_metrics = df_sample[df_sample[\"OFFER_ID\"].isin([\n",
    "    '01J8GAQQ8VRR21F50BNH25KWC9', \n",
    "    '01J0KXCYMBYRSPX8RK7W1GRKYX', \n",
    "    '01J3GPTKD0PFMCYY7Z7JWX0QY0', \n",
    "    '01J1WS3RRE28H3H22WGPNFCQ5M', \n",
    "    '01JATSBSSSDS49JA2ACWP5JKMT'\n",
    "])][[\"OFFER_ID\", \"REDEMPTIONS\", \"REDEMPTION_RATE\", \"TACTIC\", \"SPEND\", \"DURATION\", \"CATEGORIES\", \"RETAILER_CHANNELS\"]]\n",
    "\n",
    "# Print the results\n",
    "print(similar_offers_metrics)"
   ]
  },
  {
   "cell_type": "code",
   "execution_count": 38,
   "id": "450a419a-e464-42a6-a3b7-fc472a67e861",
   "metadata": {},
   "outputs": [
    {
     "name": "stdout",
     "output_type": "stream",
     "text": [
      "['M', '__bytes__', '__class__', '__contains__', '__delattr__', '__delitem__', '__dir__', '__doc__', '__eq__', '__format__', '__ge__', '__getattribute__', '__getitem__', '__getstate__', '__gt__', '__hash__', '__init__', '__init_subclass__', '__le__', '__len__', '__lt__', '__module__', '__ne__', '__new__', '__reduce__', '__reduce_ex__', '__repr__', '__setattr__', '__sizeof__', '__str__', '__subclasshook__', 'add_item', 'add_items', 'as_bytes', 'ef', 'ef_construction', 'get_distance', 'get_vector', 'get_vectors', 'ids', 'load', 'mark_deleted', 'max_elements', 'num_dimensions', 'num_elements', 'query', 'resize', 'save', 'space', 'storage_data_type', 'unmark_deleted']\n"
     ]
    }
   ],
   "source": [
    "print(dir(index))"
   ]
  }
 ],
 "metadata": {
  "kernelspec": {
   "display_name": "Python [conda env:base] *",
   "language": "python",
   "name": "conda-base-py"
  },
  "language_info": {
   "codemirror_mode": {
    "name": "ipython",
    "version": 3
   },
   "file_extension": ".py",
   "mimetype": "text/x-python",
   "name": "python",
   "nbconvert_exporter": "python",
   "pygments_lexer": "ipython3",
   "version": "3.12.7"
  }
 },
 "nbformat": 4,
 "nbformat_minor": 5
}
