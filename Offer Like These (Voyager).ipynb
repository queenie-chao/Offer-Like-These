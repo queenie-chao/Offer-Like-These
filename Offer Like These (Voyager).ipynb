{
 "cells": [
  {
   "cell_type": "code",
   "execution_count": 6,
   "id": "e8745ddb-1b79-44ae-9956-15279e50dfab",
   "metadata": {},
   "outputs": [
    {
     "name": "stdout",
     "output_type": "stream",
     "text": [
      "Cloning into 'voyager'...\n",
      "remote: Enumerating objects: 2822, done.\u001b[K\n",
      "remote: Counting objects: 100% (915/915), done.\u001b[K\n",
      "remote: Compressing objects: 100% (443/443), done.\u001b[K\n",
      "remote: Total 2822 (delta 741), reused 483 (delta 466), pack-reused 1907 (from 2)\u001b[K\n",
      "Receiving objects: 100% (2822/2822), 12.38 MiB | 15.20 MiB/s, done.\n",
      "Resolving deltas: 100% (1733/1733), done.\n",
      "Processing ./voyager/python\n",
      "  Installing build dependencies ... \u001b[?25ldone\n",
      "\u001b[?25h  Getting requirements to build wheel ... \u001b[?25ldone\n",
      "\u001b[?25h  Installing backend dependencies ... \u001b[?25ldone\n",
      "\u001b[?25h  Preparing metadata (pyproject.toml) ... \u001b[?25ldone\n",
      "\u001b[?25hBuilding wheels for collected packages: voyager\n",
      "  Building wheel for voyager (pyproject.toml) ... \u001b[?25ldone\n",
      "\u001b[?25h  Created wheel for voyager: filename=voyager-2.0.10-cp312-abi3-macosx_15_0_arm64.whl size=177453 sha256=4470ee7579d3fb58229f46ddeb878a320886dd8d379ba2c2be01d36f152fd179\n",
      "  Stored in directory: /private/var/folders/cz/gqv_mnm50j7dg9tz6m012cfr0000gn/T/pip-ephem-wheel-cache-afqc36i7/wheels/a8/52/96/35400732d3b2897145df7a53798f3d0c9ac13ad8f78aff5415\n",
      "Successfully built voyager\n",
      "Installing collected packages: voyager\n",
      "Successfully installed voyager-2.0.10\n"
     ]
    }
   ],
   "source": [
    "!git clone https://github.com/spotify/voyager.git\n",
    "!pip install ./voyager/python"
   ]
  },
  {
   "cell_type": "code",
   "execution_count": null,
   "id": "603662de-749f-4d7a-8083-ed122aaac984",
   "metadata": {},
   "outputs": [],
   "source": [
    "import os\n",
    "os._exit(00)"
   ]
  },
  {
   "cell_type": "code",
   "execution_count": 4,
   "id": "b025ed13-32d1-4c64-a665-2d116aac331b",
   "metadata": {},
   "outputs": [
    {
     "name": "stdout",
     "output_type": "stream",
     "text": [
      "['Cosine', 'E4M3', 'E4M3Index', 'E4M3T', 'Euclidean', 'Float32', 'Float8', 'Float8Index', 'FloatIndex', 'Index', 'InnerProduct', 'LabelSetView', 'RecallError', 'Space', 'StorageDataType', '__builtins__', '__cached__', '__doc__', '__file__', '__loader__', '__name__', '__package__', '__path__', '__spec__', 'version', 'voyager_ext']\n"
     ]
    }
   ],
   "source": [
    "import voyager\n",
    "print(dir(voyager))  # List available attributes and methods"
   ]
  },
  {
   "cell_type": "code",
   "execution_count": 10,
   "id": "c64f8f18-d8e3-4e2b-bb78-b40f32cc3927",
   "metadata": {},
   "outputs": [
    {
     "name": "stdout",
     "output_type": "stream",
     "text": [
      "(2, 1, 0)\n"
     ]
    }
   ],
   "source": [
    "import voyager\n",
    "print(voyager.version)"
   ]
  },
  {
   "cell_type": "code",
   "execution_count": 87,
   "id": "e55eb64c-0087-40de-a04f-8bbbd96197ef",
   "metadata": {},
   "outputs": [
    {
     "name": "stdout",
     "output_type": "stream",
     "text": [
      "                     OFFER_ID                  PAYER_ID              PARTNER  \\\n",
      "0  01HW8AEZW3MHFE2HHH1AQ6SAM5  5e7cf838f221c312e698a628             sargento   \n",
      "1  01HYDKKSWG6JWR82Z9VP193CY7  602186b82455c91734ff7a71         pernodricard   \n",
      "2  01HNND78P876X078J35V7Q757Q  63937bc130239a07c0e8aaaf               amazon   \n",
      "3  01J1DPE4XSC163YWGYVWZSSTTZ  62f51f6f02d87153442246a2          marswrigley   \n",
      "4  01HZDVVMRDCWHSB81G6S55J5VH  5fc90c54ac99f076f08267c2  albertsonscompanies   \n",
      "\n",
      "                          CAMPAIGN  POINTS                   TACTIC     SPEND  \\\n",
      "0   #2024_Sargento_Summer_Grilling   600.0    COMPETITIVE_TARGETING  60698.70   \n",
      "1     #PRUSA_Malfy_Bandit_May 2024  6000.0            VOLUME_DRIVER    423.00   \n",
      "2  #Amazon Fresh Q1 2024_CANCELLED   100.0           TRIP_FREQUENCY      2.25   \n",
      "3               #DOVE Core Q3 2024   400.0  BUY_RATE_DOLLAR_OR_UNIT   6056.50   \n",
      "4               #ACI Q2 '24 Offers  1500.0  BUY_RATE_DOLLAR_OR_UNIT  72391.50   \n",
      "\n",
      "   TARGET_BUDGET   AUDIENCE  REDEEMERS  ...  PROMO_DOLLARS_T PROMO_USERS_T  \\\n",
      "0          58970  5183399.0    56931.0  ...        855849.23      169367.0   \n",
      "1            423  5013891.0       36.0  ...          2361.85          63.0   \n",
      "2              0     2758.0       12.0  ...          4448.15          42.0   \n",
      "3           6000   154409.0     7773.0  ...        190419.44       18623.0   \n",
      "4          77844   129972.0    22961.0  ...      44451787.06       98131.0   \n",
      "\n",
      "  PROMO_UNITS_T  REDEMPTIONS  INCR_DOLLARS    INCR_UNITS   INCR_USERS  \\\n",
      "0     265305.43      67441.0  7.083420e+04  21791.163649  8228.782823   \n",
      "1         81.00         47.0           NaN           NaN          NaN   \n",
      "2           NaN         15.0           NaN           NaN          NaN   \n",
      "3      39929.85      12113.0  2.294636e+04   3175.912729   151.632329   \n",
      "4           NaN      32173.0  2.338613e+06           NaN   731.732415   \n",
      "\n",
      "                                            BARCODES  CATEGORIES  \\\n",
      "0  046100201206, 046100001622, 046100002834, 0461...       Dairy   \n",
      "1  080432117811, 311111172563, 853222006387, 0804...     Alcohol   \n",
      "2                                                NaN         NaN   \n",
      "3  040000570950, 040000459859, 040000553229, 0400...      Snacks   \n",
      "4                                                NaN         NaN   \n",
      "\n",
      "                                   RETAILER_CHANNELS  \n",
      "0  CLUB, LIQUOR, RESTAURANT, MILITARY, DEPARTMENT...  \n",
      "1  DOLLAR, LIQUOR, MASS, GROCERY, OTHER, MILITARY...  \n",
      "2                                            GROCERY  \n",
      "3  ELECTRONICS, DEPARTMENT, HOME_IMPROVEMENT, OTH...  \n",
      "4                                            GROCERY  \n",
      "\n",
      "[5 rows x 26 columns]\n",
      "(6323, 26)\n"
     ]
    }
   ],
   "source": [
    "import pandas as pd\n",
    "\n",
    "# Specify the path to your CSV file\n",
    "file_path = \"data_0130.csv\"\n",
    "\n",
    "# Load the CSV file into a pandas DataFrame\n",
    "df = pd.read_csv(file_path)\n",
    "\n",
    "# Display the first few rows of the DataFrame\n",
    "print(df.head())\n",
    "print(df.shape)"
   ]
  },
  {
   "cell_type": "code",
   "execution_count": 89,
   "id": "90b8da4c-01f8-4b84-ba7f-68fcef515689",
   "metadata": {},
   "outputs": [
    {
     "name": "stdout",
     "output_type": "stream",
     "text": [
      "Index(['OFFER_ID', 'PAYER_ID', 'PARTNER', 'CAMPAIGN', 'POINTS', 'TACTIC',\n",
      "       'SPEND', 'TARGET_BUDGET', 'AUDIENCE', 'REDEEMERS', 'REDEMPTION_RATE',\n",
      "       'START_DATE', 'LATEST_END_DATE', 'DURATION', 'IROAS', 'ROAS',\n",
      "       'PROMO_DOLLARS_T', 'PROMO_USERS_T', 'PROMO_UNITS_T', 'REDEMPTIONS',\n",
      "       'INCR_DOLLARS', 'INCR_UNITS', 'INCR_USERS', 'BARCODES', 'CATEGORIES',\n",
      "       'RETAILER_CHANNELS'],\n",
      "      dtype='object')\n"
     ]
    }
   ],
   "source": [
    "print(df.columns)"
   ]
  },
  {
   "cell_type": "code",
   "execution_count": 45,
   "id": "12bafc8e-a80e-4b35-b3a8-908fa8a3f4b3",
   "metadata": {},
   "outputs": [
    {
     "name": "stdout",
     "output_type": "stream",
     "text": [
      "                         OFFER_ID                  PAYER_ID           PARTNER  \\\n",
      "6942   01J91FXG59V5284QJYGEPN9HYC  5eebc5412455c97a877ef382  thecloroxcompany   \n",
      "26675  01J99PTS1WTSB85HV6CFQN8NV3  63937bc130239a07c0e8aaaf            amazon   \n",
      "56383  01HQRFY2FQ8XJN36BEWSQ0KMZS  5332f5f3e4b03c9a25efd0ae      generalmills   \n",
      "1638   01HHMN65N9TJFKWE2C5DRR9P0E  62f51f6f02d87153442246a2       marswrigley   \n",
      "5554   01J2CFN7Q32SRBKCCGWJWKPY01  62618c0303646d1af035dc93            zaxbys   \n",
      "\n",
      "                               CAMPAIGN  POINTS                   TACTIC  \\\n",
      "6942      #GladTrash_Portfolio_OctNov24  1750.0  BUY_RATE_DOLLAR_OR_UNIT   \n",
      "26675  #Amazon Fresh Q4 '24 Campaign_V2  2500.0           TRIP_FREQUENCY   \n",
      "56383  #Blue Buffalo Wet Dog March FY24  1000.0     NEW_CATEGORY_ENTRANT   \n",
      "1638             #M&M'S PB Portfolio Q1   600.0  BUY_RATE_DOLLAR_OR_UNIT   \n",
      "5554                    #Zaxbys_2H 2024  1250.0  BUY_RATE_DOLLAR_OR_UNIT   \n",
      "\n",
      "           SPEND  TARGET_BUDGET   AUDIENCE  REDEEMERS  ...  PROMO_USERS_T  \\\n",
      "6942   19637.625          20000  1081670.0     7481.0  ...        60715.0   \n",
      "26675  82203.750          79500    21657.0    10052.0  ...        12466.0   \n",
      "56383   7330.400           6560  9738658.0     5235.0  ...         8982.0   \n",
      "1638   20907.000          40500  2320918.0    18614.0  ...        60098.0   \n",
      "5554    2294.625           2295   160081.0     1260.0  ...         2702.0   \n",
      "\n",
      "      PROMO_UNITS_T REDEMPTIONS   INCR_DOLLARS    INCR_UNITS   INCR_USERS  \\\n",
      "6942       79605.92      7481.0   37167.734159   3176.307677  2374.779784   \n",
      "26675           NaN     21921.0  504421.516750           NaN   183.000000   \n",
      "56383      22989.31      5235.0     459.507320   1173.385281   466.687571   \n",
      "1638       88807.62     27845.0   57157.085052  14080.665278  5246.564830   \n",
      "5554            NaN      1422.0    9717.556789           NaN   324.559406   \n",
      "\n",
      "                                                BARCODES  \\\n",
      "6942   012587704264, 012587793121, 012587223093, 0125...   \n",
      "26675                                                NaN   \n",
      "56383  840243104949, 840243129300, 840243105731, 8402...   \n",
      "1638   040000002239, 311111672032, 040000437857, 3111...   \n",
      "5554                                                 NaN   \n",
      "\n",
      "                   CATEGORIES  POINTS_EARNED  RETAILER_CHANNELS  \n",
      "6942       Household Supplies         1750.0         RESTAURANT  \n",
      "26675                     NaN         2500.0            UNKNOWN  \n",
      "56383  Animals & Pet Supplies         1000.0        CONVENIENCE  \n",
      "1638           Pantry, Snacks          600.0               DRUG  \n",
      "5554                      NaN         1250.0                NaN  \n",
      "\n",
      "[5 rows x 27 columns]\n",
      "(100, 27)\n"
     ]
    }
   ],
   "source": [
    "df_sample = df.sample(n=100, random_state=42)  # Set random_state for reproducibility\n",
    "\n",
    "# Display the first few rows of the sampled dataset\n",
    "print(df_sample.head())\n",
    "print(df_sample.shape) "
   ]
  },
  {
   "cell_type": "code",
   "execution_count": 92,
   "id": "58366ac7-1a5d-4d85-b954-0915ef2633bb",
   "metadata": {},
   "outputs": [
    {
     "name": "stdout",
     "output_type": "stream",
     "text": [
      "Predicted Redemption Rate: 1.07920946665\n",
      "Predicted Redemptions: 44548.5\n"
     ]
    }
   ],
   "source": [
    "import voyager\n",
    "import pandas as pd\n",
    "import numpy as np\n",
    "from sklearn.preprocessing import StandardScaler, OneHotEncoder\n",
    "from sklearn.pipeline import Pipeline\n",
    "\n",
    "# Selecting numerical and categorical features\n",
    "num_features = [\"POINTS\", \"SPEND\", \"TARGET_BUDGET\", \"AUDIENCE\", \"DURATION\"]\n",
    "cat_features = [\"PAYER_ID\", \"PARTNER\", \"TACTIC\", \"CATEGORIES\", \"RETAILER_CHANNELS\"]\n",
    "\n",
    "# Preprocessing pipeline\n",
    "num_pipeline = Pipeline([(\"scaler\", StandardScaler())])\n",
    "cat_pipeline = Pipeline([(\"encoder\", OneHotEncoder(handle_unknown=\"ignore\"))])\n",
    "\n",
    "# Transform features\n",
    "num_data = num_pipeline.fit_transform(df[num_features])\n",
    "cat_data = cat_pipeline.fit_transform(df[cat_features]).toarray()\n",
    "# num_data = num_pipeline.fit_transform(df_sample[num_features])\n",
    "# cat_data = cat_pipeline.fit_transform(df_sample[cat_features]).toarray()\n",
    "\n",
    "# Combine into final vector representation\n",
    "offer_vectors = np.hstack([num_data, cat_data]).astype(np.float32)\n",
    "\n",
    "index = voyager.Index(space=voyager.Space.Euclidean, num_dimensions=offer_vectors.shape[1])\n",
    "\n",
    "for i, vector in enumerate(offer_vectors):\n",
    "    index.add_item(vector, i)  # Vector comes first, then the ID\n"
   ]
  },
  {
   "cell_type": "code",
   "execution_count": null,
   "id": "99371e52-9d59-43c9-964a-c21ae11594c7",
   "metadata": {},
   "outputs": [],
   "source": [
    "# # Function to find similar offers\n",
    "# def find_similar_offers(query_vector, top_k=5):\n",
    "#     indices, distances = index.query(query_vector.reshape(1, -1), k=top_k)\n",
    "#     return df.iloc[indices[0]]  # Return top similar offers\n",
    "\n",
    "# # Example: Predict Redemptions for a new offer\n",
    "# new_offer_vector = offer_vectors[0]  # Use the first offer as a query\n",
    "# similar_offers = find_similar_offers(new_offer_vector)\n",
    "\n",
    "# # Predict Redemption Rate and Redemptions\n",
    "# predicted_redemption_rate = similar_offers[\"REDEMPTION_RATE\"].mean()\n",
    "# predicted_redemptions = similar_offers[\"REDEMPTIONS\"].mean()\n",
    "\n",
    "# print(f\"Predicted Redemption Rate: {predicted_redemption_rate}\")\n",
    "# print(f\"Predicted Redemptions: {predicted_redemptions}\")"
   ]
  },
  {
   "cell_type": "code",
   "execution_count": 81,
   "id": "80ea0a43-097e-4485-a9f6-3aa804fa85e3",
   "metadata": {},
   "outputs": [
    {
     "name": "stdout",
     "output_type": "stream",
     "text": [
      "Similar Offer IDs: ['01J8GAQQ8VRR21F50BNH25KWC9', '01J0KXCYMBYRSPX8RK7W1GRKYX', '01J3GPTKD0PFMCYY7Z7JWX0QY0', '01J1WS3RRE28H3H22WGPNFCQ5M', '01JATSBSSSDS49JA2ACWP5JKMT']\n"
     ]
    }
   ],
   "source": [
    "# Function to find similar offers and return OFFER_IDs\n",
    "def find_similar_offers(query_vector, top_k=5):\n",
    "    indices, distances = index.query(query_vector.reshape(1, -1), k=top_k)\n",
    "    similar_offers = df.iloc[indices[0]]  # Get similar offers\n",
    "    # similar_offers = df_sample.iloc[indices[0]]\n",
    "\n",
    "    # Extract OFFER_IDs from similar offers\n",
    "    similar_offer_ids = similar_offers[\"OFFER_ID\"].tolist()\n",
    "    return similar_offer_ids  # Return only OFFER_IDs\n",
    "\n",
    "# Example: Find similar offers for a new offer\n",
    "new_offer_vector = offer_vectors[0]  # Use the first offer as a query\n",
    "similar_offer_ids = find_similar_offers(new_offer_vector)\n",
    "\n",
    "# Display the OFFER_IDs of the similar offers\n",
    "print(\"Similar Offer IDs:\", similar_offer_ids)"
   ]
  },
  {
   "cell_type": "code",
   "execution_count": 94,
   "id": "bfb7e2a4-4337-49d7-8571-a856c59aba68",
   "metadata": {},
   "outputs": [
    {
     "data": {
      "text/plain": [
       "OFFER_ID                                    01HW8AEZW3MHFE2HHH1AQ6SAM5\n",
       "PAYER_ID                                      5e7cf838f221c312e698a628\n",
       "PARTNER                                                       sargento\n",
       "CAMPAIGN                                #2024_Sargento_Summer_Grilling\n",
       "POINTS                                                           600.0\n",
       "TACTIC                                           COMPETITIVE_TARGETING\n",
       "SPEND                                                          60698.7\n",
       "TARGET_BUDGET                                                    58970\n",
       "AUDIENCE                                                     5183399.0\n",
       "REDEEMERS                                                      56931.0\n",
       "REDEMPTION_RATE                                               1.098333\n",
       "START_DATE                                   2024-05-01 05:00:00.000 Z\n",
       "LATEST_END_DATE                              2024-07-05 04:59:59.999 Z\n",
       "DURATION                                                            64\n",
       "IROAS                                                          1.16698\n",
       "ROAS                                                          14.09996\n",
       "PROMO_DOLLARS_T                                              855849.23\n",
       "PROMO_USERS_T                                                 169367.0\n",
       "PROMO_UNITS_T                                                265305.43\n",
       "REDEMPTIONS                                                    67441.0\n",
       "INCR_DOLLARS                                              70834.197588\n",
       "INCR_UNITS                                                21791.163649\n",
       "INCR_USERS                                                 8228.782823\n",
       "BARCODES             046100201206, 046100001622, 046100002834, 0461...\n",
       "CATEGORIES                                                       Dairy\n",
       "RETAILER_CHANNELS    CLUB, LIQUOR, RESTAURANT, MILITARY, DEPARTMENT...\n",
       "Name: 0, dtype: object"
      ]
     },
     "execution_count": 94,
     "metadata": {},
     "output_type": "execute_result"
    }
   ],
   "source": [
    "df.iloc[0]"
   ]
  },
  {
   "cell_type": "code",
   "execution_count": 106,
   "id": "f691e5fd-1293-4521-90cf-9b5f193b55ae",
   "metadata": {},
   "outputs": [
    {
     "name": "stdout",
     "output_type": "stream",
     "text": [
      "                        OFFER_ID         PARTNER  POINTS  \\\n",
      "2041  01JATSBSSSDS49JA2ACWP5JKMT  georgiapacific  1000.0   \n",
      "2095  01J8GAQQ8VRR21F50BNH25KWC9     wonderbelly  4000.0   \n",
      "4295  01J0KXCYMBYRSPX8RK7W1GRKYX    flowersfoods  1200.0   \n",
      "4683  01J1WS3RRE28H3H22WGPNFCQ5M    generalmills  1800.0   \n",
      "5000  01J3GPTKD0PFMCYY7Z7JWX0QY0    flowersfoods     NaN   \n",
      "\n",
      "                       TACTIC       SPEND  TARGET_BUDGET  DURATION  \\\n",
      "2041  BUY_RATE_DOLLAR_OR_UNIT     286.200            280        38   \n",
      "2095  BUY_RATE_DOLLAR_OR_UNIT    2016.000           3750        90   \n",
      "4295  BUY_RATE_DOLLAR_OR_UNIT      28.560             29       213   \n",
      "4683  BUY_RATE_DOLLAR_OR_UNIT  225047.160         157248        50   \n",
      "5000    COMPETITIVE_TARGETING  267867.488         273460        91   \n",
      "\n",
      "                                  CATEGORIES  \\\n",
      "2041                      Household Supplies   \n",
      "2095                       Health & Wellness   \n",
      "4295                                  Snacks   \n",
      "4683  Alcohol, Dairy, Pantry, Snacks, Frozen   \n",
      "5000                                  Snacks   \n",
      "\n",
      "                                      RETAILER_CHANNELS  REDEMPTIONS  \\\n",
      "2041                            MASS, GROCERY, MILITARY        212.0   \n",
      "2095  OTHER, DEPARTMENT, DRUG, ELECTRONICS, MASS, GR...        336.0   \n",
      "4295                   MASS, DRUG, CONVENIENCE, GROCERY         17.0   \n",
      "4683  CLUB, ELECTRONICS, HARDWARE, MASS, RESTAURANT,...      96174.0   \n",
      "5000  DEPARTMENT, GROCERY, HOME_IMPROVEMENT, LIQUOR,...      74050.0   \n",
      "\n",
      "      REDEMPTION_RATE     IROAS       ROAS  PROMO_DOLLARS_T  PROMO_USERS_T  \\\n",
      "2041         0.269653       NaN  14.554962          4165.63          183.0   \n",
      "2095         1.744731       NaN   3.445342          6945.81          245.0   \n",
      "4295         2.328767       NaN  13.110994           374.45           63.0   \n",
      "4683         6.162874       NaN  35.063438       7890927.10       543673.0   \n",
      "5000         0.292346  0.372396   2.217653        594037.01        47709.0   \n",
      "\n",
      "      PROMO_UNITS_T  \n",
      "2041         247.00  \n",
      "2095         583.00  \n",
      "4295          99.00  \n",
      "4683     1481301.26  \n",
      "5000      116425.52  \n"
     ]
    }
   ],
   "source": [
    "# Filter the dataset to get the Redemption Rate and Redemptions for the similar OFFER_IDs\n",
    "similar_offers_metrics = df[df[\"OFFER_ID\"].isin([\n",
    "    '01J8GAQQ8VRR21F50BNH25KWC9', \n",
    "    '01J0KXCYMBYRSPX8RK7W1GRKYX', \n",
    "    '01J3GPTKD0PFMCYY7Z7JWX0QY0', \n",
    "    '01J1WS3RRE28H3H22WGPNFCQ5M', \n",
    "    '01JATSBSSSDS49JA2ACWP5JKMT'\n",
    "])][[\"OFFER_ID\", \n",
    "     \"PARTNER\", \n",
    "     \"POINTS\", \n",
    "     \"TACTIC\", \n",
    "     \"SPEND\", \n",
    "     \"TARGET_BUDGET\", \n",
    "     \"DURATION\", \n",
    "     \"CATEGORIES\", \n",
    "     \"RETAILER_CHANNELS\",\n",
    "     \"REDEMPTIONS\", \n",
    "     \"REDEMPTION_RATE\",\n",
    "     \"IROAS\",\n",
    "     \"ROAS\",\n",
    "     \"PROMO_DOLLARS_T\",\n",
    "     \"PROMO_USERS_T\",\n",
    "     \"PROMO_UNITS_T\"]]\n",
    "\n",
    "# Print the results\n",
    "print(similar_offers_metrics)"
   ]
  }
 ],
 "metadata": {
  "kernelspec": {
   "display_name": "Python [conda env:base] *",
   "language": "python",
   "name": "conda-base-py"
  },
  "language_info": {
   "codemirror_mode": {
    "name": "ipython",
    "version": 3
   },
   "file_extension": ".py",
   "mimetype": "text/x-python",
   "name": "python",
   "nbconvert_exporter": "python",
   "pygments_lexer": "ipython3",
   "version": "3.12.7"
  }
 },
 "nbformat": 4,
 "nbformat_minor": 5
}
